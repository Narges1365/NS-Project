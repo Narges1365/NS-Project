{
 "cells": [
  {
   "cell_type": "code",
   "execution_count": 1,
   "metadata": {},
   "outputs": [],
   "source": [
    "import json as json\n",
    "import itertools\n",
    "import re\n",
    "import collections\n",
    "import matplotlib.pyplot as plt\n",
    "import networkx as nx"
   ]
  },
  {
   "cell_type": "code",
   "execution_count": 2,
   "metadata": {},
   "outputs": [],
   "source": [
    "hashtag_re = re.compile(\"(?:^|\\s)[＃#]{1}(\\w+)\", re.IGNORECASE)"
   ]
  },
  {
   "cell_type": "code",
   "execution_count": 3,
   "metadata": {},
   "outputs": [],
   "source": [
    "json_data = open(\"tweets-CleanFull.txt\", \"r\")\n",
    "edgeList = []\n",
    "counterError = 0\n",
    "\n",
    "for line in json_data:  #read each tweet\n",
    "    try:\n",
    "        line = line.replace(\"# \", \"#\")\n",
    "        tweet = json.loads(line)\n",
    "        hashtags = hashtag_re.findall(tweet[\"text\"].lower())\n",
    "        hashtags = list(set(hashtags))\n",
    "        if (len(hashtags) > 1):\n",
    "            combinations = list(itertools.combinations(hashtags, 2))\n",
    "            #print((combinations[1]))\n",
    "            #print(\" \")\n",
    "            edgeList.extend(combinations)\n",
    "    except:\n",
    "        counterError += 1\n",
    "        continue"
   ]
  },
  {
   "cell_type": "code",
   "execution_count": 4,
   "metadata": {},
   "outputs": [
    {
     "name": "stdout",
     "output_type": "stream",
     "text": [
      "4648241\n",
      "832571\n"
     ]
    }
   ],
   "source": [
    "print(len(edgeList))\n",
    "print(len(set(edgeList)))"
   ]
  },
  {
   "cell_type": "code",
   "execution_count": 5,
   "metadata": {},
   "outputs": [],
   "source": [
    "edgeListCounter = collections.Counter(edgeList)"
   ]
  },
  {
   "cell_type": "code",
   "execution_count": 6,
   "metadata": {},
   "outputs": [
    {
     "data": {
      "text/plain": [
       "832571"
      ]
     },
     "execution_count": 6,
     "metadata": {},
     "output_type": "execute_result"
    }
   ],
   "source": [
    "len(edgeListCounter)"
   ]
  },
  {
   "cell_type": "code",
   "execution_count": 7,
   "metadata": {},
   "outputs": [],
   "source": [
    "G = nx.Graph()"
   ]
  },
  {
   "cell_type": "code",
   "execution_count": 8,
   "metadata": {},
   "outputs": [],
   "source": [
    "for elem in edgeListCounter:\n",
    "    w = edgeListCounter[elem]\n",
    "    if (w > 3):\n",
    "        G.add_edge(elem[0], elem[1], weight = w)"
   ]
  },
  {
   "cell_type": "code",
   "execution_count": 88,
   "metadata": {},
   "outputs": [
    {
     "name": "stdout",
     "output_type": "stream",
     "text": [
      "12624\n",
      "99028\n"
     ]
    }
   ],
   "source": [
    "print(len(G.nodes))\n",
    "print(len(G.edges))"
   ]
  },
  {
   "cell_type": "code",
   "execution_count": 14,
   "metadata": {},
   "outputs": [],
   "source": [
    "edges, weights = zip(*edgeListCounter.items())"
   ]
  },
  {
   "cell_type": "code",
   "execution_count": 15,
   "metadata": {},
   "outputs": [
    {
     "data": {
      "text/plain": [
       "835478"
      ]
     },
     "execution_count": 15,
     "metadata": {},
     "output_type": "execute_result"
    }
   ],
   "source": [
    "len(weights)"
   ]
  },
  {
   "cell_type": "code",
   "execution_count": 16,
   "metadata": {},
   "outputs": [
    {
     "data": {
      "text/plain": [
       "70407"
      ]
     },
     "execution_count": 16,
     "metadata": {},
     "output_type": "execute_result"
    }
   ],
   "source": [
    "max(weights)"
   ]
  },
  {
   "cell_type": "code",
   "execution_count": 17,
   "metadata": {},
   "outputs": [
    {
     "data": {
      "text/plain": [
       "1"
      ]
     },
     "execution_count": 17,
     "metadata": {},
     "output_type": "execute_result"
    }
   ],
   "source": [
    "min(weights)"
   ]
  },
  {
   "cell_type": "code",
   "execution_count": 18,
   "metadata": {},
   "outputs": [
    {
     "data": {
      "text/plain": [
       "5.563570794204036"
      ]
     },
     "execution_count": 18,
     "metadata": {},
     "output_type": "execute_result"
    }
   ],
   "source": [
    "sum(weights) / len(weights)"
   ]
  },
  {
   "cell_type": "code",
   "execution_count": null,
   "metadata": {},
   "outputs": [],
   "source": []
  },
  {
   "cell_type": "code",
   "execution_count": 19,
   "metadata": {},
   "outputs": [
    {
     "data": {
      "image/png": "[encoded data removed]",
      "text/plain": [
       "<Figure size 432x288 with 1 Axes>"
      ]
     },
     "metadata": {},
     "output_type": "display_data"
    }
   ],
   "source": [
    "w_seq = sorted(weights, reverse=True)\n",
    "wCount = collections.Counter(w_seq)\n",
    "w, cnt = zip(*wCount.items())\n",
    "fig, ax = plt.subplots()\n",
    "ax.scatter(w, cnt, s=10, c='b', marker=\"o\", label='Real')\n",
    "plt.legend(loc='upper right')\n",
    "plt.title(\"Degree Histogram\")\n",
    "plt.ylabel(\"Count\")\n",
    "plt.xlabel(\"Degree\")\n",
    "#ax.set_xscale(\"log\", nonposx='clip')\n",
    "ax.set_yscale(\"log\", nonposy='clip')\n",
    "\n",
    "plt.show()"
   ]
  },
  {
   "cell_type": "code",
   "execution_count": 33,
   "metadata": {},
   "outputs": [],
   "source": [
    "a = len(weights)"
   ]
  },
  {
   "cell_type": "code",
   "execution_count": 41,
   "metadata": {},
   "outputs": [],
   "source": [
    "b = wCount[1]+wCount[2]+wCount[3]+wCount[4]+wCount[5]+wCount[6]+wCount[7]+wCount[8]+wCount[9]+wCount[10]+wCount[11]+wCount[12]+wCount[13]+wCount[14]+wCount[15]+wCount[16]"
   ]
  },
  {
   "cell_type": "code",
   "execution_count": 42,
   "metadata": {},
   "outputs": [
    {
     "data": {
      "text/plain": [
       "21842"
      ]
     },
     "execution_count": 42,
     "metadata": {},
     "output_type": "execute_result"
    }
   ],
   "source": [
    "a-b"
   ]
  },
  {
   "cell_type": "code",
   "execution_count": 13,
   "metadata": {},
   "outputs": [],
   "source": [
    "G2 = nx.Graph()"
   ]
  },
  {
   "cell_type": "code",
   "execution_count": 14,
   "metadata": {},
   "outputs": [],
   "source": [
    "for elem in edgeListCounter:\n",
    "    w = edgeListCounter[elem]\n",
    "    if (w > 20):\n",
    "        G2.add_edge(elem[0], elem[1], weight = w)"
   ]
  },
  {
   "cell_type": "code",
   "execution_count": 15,
   "metadata": {},
   "outputs": [
    {
     "name": "stdout",
     "output_type": "stream",
     "text": [
      "2533\n",
      "15527\n"
     ]
    }
   ],
   "source": [
    "print(len(G2.nodes))\n",
    "print(len(G2.edges))"
   ]
  },
  {
   "cell_type": "code",
   "execution_count": 83,
   "metadata": {},
   "outputs": [
    {
     "name": "stdout",
     "output_type": "stream",
     "text": [
      "972\n",
      "5438\n"
     ]
    }
   ],
   "source": [
    "print(len(G2.nodes))\n",
    "print(len(G2.edges))"
   ]
  },
  {
   "cell_type": "code",
   "execution_count": 16,
   "metadata": {},
   "outputs": [],
   "source": [
    "Gcc = sorted(nx.connected_component_subgraphs(G2), key=len, reverse=True)"
   ]
  },
  {
   "cell_type": "code",
   "execution_count": 17,
   "metadata": {},
   "outputs": [
    {
     "name": "stdout",
     "output_type": "stream",
     "text": [
      "2485\n",
      "15476\n"
     ]
    }
   ],
   "source": [
    "G0 = Gcc[0]\n",
    "# Size of the Giant Component\n",
    "print(len(G0.nodes()))\n",
    "print(len(G0.edges()))"
   ]
  },
  {
   "cell_type": "code",
   "execution_count": 18,
   "metadata": {},
   "outputs": [],
   "source": [
    "nx.write_gexf(G0, \"weighted-hashtags-w20.gexf\")"
   ]
  },
  {
   "cell_type": "code",
   "execution_count": 2,
   "metadata": {},
   "outputs": [],
   "source": [
    "G = nx.read_gexf(\"weighted-hashtags-w3.gexf\")"
   ]
  },
  {
   "cell_type": "code",
   "execution_count": 3,
   "metadata": {},
   "outputs": [
    {
     "data": {
      "image/png": "[encoded data removed]",
      "text/plain": [
       "<Figure size 432x288 with 2 Axes>"
      ]
     },
     "metadata": {},
     "output_type": "display_data"
    }
   ],
   "source": [
    "degree_sequence = sorted([d for n, d in G.degree()], reverse=True)\n",
    "#degree_sequenceER = sorted([d for n, d in GER.degree()], reverse=True)\n",
    "#degree_sequenceBA = sorted([d for n, d in GBA.degree()], reverse=True)\n",
    "\n",
    "degreeCount = collections.Counter(degree_sequence)\n",
    "#degreeCountER = collections.Counter(degree_sequenceER)\n",
    "#degreeCountBA = collections.Counter(degree_sequenceBA)\n",
    "deg, cnt = zip(*degreeCount.items())\n",
    "#degER, cntER = zip(*degreeCountER.items())\n",
    "#degBA, cntBA = zip(*degreeCountBA.items())\n",
    "\n",
    "fig, ax = plt.subplots()\n",
    "ax.scatter(deg, cnt, s=10, c='b', marker=\"o\", label='Real')\n",
    "#ax.scatter(degER, cntER, s=10, c='r', marker=\"s\", label='ER')\n",
    "#ax.scatter(degBA, cntBA, s=10, c='g', marker=\"+\", label='BA')\n",
    "#ax1.scatter(x[40:],y[40:], s=10, c='r', marker=\"o\", label='second')\n",
    "plt.legend(loc='upper right')\n",
    "#ax.scatter(, 'r--')\n",
    "\n",
    "plt.title(\"Degree Histogram\")\n",
    "plt.ylabel(\"Count\")\n",
    "plt.xlabel(\"Degree\")\n",
    "#ax.set_xticks([d + 0.4 for d in deg])\n",
    "#ax.set_xticklabels(deg)\n",
    "\n",
    "# draw graph in inset\n",
    "plt.axes([0.4, 0.4, 0.5, 0.5])\n",
    "ax.set_xscale(\"log\", nonposx='clip')\n",
    "ax.set_yscale(\"log\", nonposy='clip')\n",
    "Gcc = sorted(nx.connected_component_subgraphs(G), key=len, reverse=True)[0]\n",
    "#pos = nx.spring_layout(G)\n",
    "plt.axis('off')\n",
    "#nx.draw_networkx_nodes(G, pos, node_size=20)\n",
    "#nx.draw_networkx_edges(G, pos, alpha=0.4)\n",
    "\n",
    "plt.show()"
   ]
  },
  {
   "cell_type": "code",
   "execution_count": 4,
   "metadata": {},
   "outputs": [
    {
     "data": {
      "text/plain": [
       "12624"
      ]
     },
     "execution_count": 4,
     "metadata": {},
     "output_type": "execute_result"
    }
   ],
   "source": [
    "len(G.nodes)"
   ]
  },
  {
   "cell_type": "code",
   "execution_count": 5,
   "metadata": {},
   "outputs": [
    {
     "data": {
      "text/plain": [
       "99028"
      ]
     },
     "execution_count": 5,
     "metadata": {},
     "output_type": "execute_result"
    }
   ],
   "source": [
    "len(G.edges)"
   ]
  },
  {
   "cell_type": "code",
   "execution_count": null,
   "metadata": {},
   "outputs": [],
   "source": []
  },
  {
   "cell_type": "code",
   "execution_count": 18,
   "metadata": {},
   "outputs": [],
   "source": [
    "import collections\n",
    "import matplotlib.pyplot as plt\n",
    "import networkx as nx"
   ]
  },
  {
   "cell_type": "markdown",
   "metadata": {},
   "source": [
    "Do not run next cell!\n",
    "Run the other one, to read the networks used in the report."
   ]
  },
  {
   "cell_type": "code",
   "execution_count": 93,
   "metadata": {},
   "outputs": [
    {
     "name": "stdout",
     "output_type": "stream",
     "text": [
      "p is : 0.0012428778136194347\n",
      "m is : 8\n",
      "Our crawled graph has 12624 nodes and 99028 edges\n",
      "Erdos-Reyni graph has 12624 nodes and 98799 edges\n",
      "Barabasi-Albert graph has 12624 nodes and 100928 edges\n"
     ]
    }
   ],
   "source": [
    "#Our Crwaled Graph\n",
    "crawledNodesCount = len(G.nodes())\n",
    "crawledEdegesCount = len(G.edges())\n",
    "\n",
    "#ER and Ba models (For Comparison)\n",
    "\n",
    "#Erdos - Reyni:\n",
    "#Expected p for given |N| and |E|\n",
    "p = (2 * crawledEdegesCount ) / (crawledNodesCount * (crawledNodesCount - 1))\n",
    "print (\"p is : {}\".format(p))\n",
    "GER = nx.erdos_renyi_graph(crawledNodesCount, p)\n",
    "ERNodesCount = len(GER.nodes())\n",
    "EREdegesCount = len(GER.edges())\n",
    "\n",
    "#Barabasi - Albert:\n",
    "#Expected m for given |N| and |E|  (m is ceiled)\n",
    "m = int(crawledEdegesCount / crawledNodesCount) + 1\n",
    "print (\"m is : {}\".format(m))\n",
    "GBA = nx.barabasi_albert_graph(crawledNodesCount, m)\n",
    "BANodesCount = len(GBA.nodes())\n",
    "BAEdegesCount = len(GBA.edges())\n",
    "\n",
    "print(\"Our crawled graph has {} nodes and {} edges\".format(crawledNodesCount, crawledEdegesCount))\n",
    "print(\"Erdos-Reyni graph has {} nodes and {} edges\".format(ERNodesCount, EREdegesCount))\n",
    "print(\"Barabasi-Albert graph has {} nodes and {} edges\".format(BANodesCount, BAEdegesCount))"
   ]
  },
  {
   "cell_type": "code",
   "execution_count": 95,
   "metadata": {},
   "outputs": [],
   "source": [
    "nx.write_gexf(GER, \"Erdos-Reyni.gexf\")\n",
    "nx.write_gexf(GBA, \"Barabasi-Albert.gexf\")"
   ]
  },
  {
   "cell_type": "code",
   "execution_count": 6,
   "metadata": {},
   "outputs": [],
   "source": [
    "G = nx.read_gexf(\"weighted-hashtags-w3.gexf\")\n",
    "GER = nx.read_gexf(\"Erdos-Reyni.gexf\")\n",
    "GBA = nx.read_gexf(\"Barabasi-Albert.gexf\")"
   ]
  },
  {
   "cell_type": "code",
   "execution_count": 7,
   "metadata": {},
   "outputs": [
    {
     "name": "stdout",
     "output_type": "stream",
     "text": [
      "Density of our network = 0.0012428778136194347\n",
      "Density of ER network = 0.001240003686914676\n",
      "Density of BA network = 0.001266724279728787\n"
     ]
    }
   ],
   "source": [
    "print(\"Density of our network = {}\".format(nx.density(G)))\n",
    "print(\"Density of ER network = {}\".format(nx.density(GER)))\n",
    "print(\"Density of BA network = {}\".format(nx.density(GBA)))"
   ]
  },
  {
   "cell_type": "code",
   "execution_count": 8,
   "metadata": {},
   "outputs": [
    {
     "name": "stdout",
     "output_type": "stream",
     "text": [
      "Avg degree of our network = 15.688846641318124\n",
      "Avg degree of ER network = 15.652566539923955\n",
      "Avg degree of BA network = 15.989860583016476\n"
     ]
    }
   ],
   "source": [
    "print(\"Avg degree of our network = {}\".format((2*len(G.edges()))/len(G.nodes)))\n",
    "print(\"Avg degree of ER network = {}\".format((2*len(GER.edges()))/len(GER.nodes)))\n",
    "print(\"Avg degree of BA network = {}\".format((2*len(GBA.edges()))/len(GBA.nodes)))"
   ]
  },
  {
   "cell_type": "code",
   "execution_count": 9,
   "metadata": {},
   "outputs": [
    {
     "name": "stdout",
     "output_type": "stream",
     "text": [
      "Avg Clustering Coefficient of our network = 0.6817493234994086\n",
      "Avg Clustering Coefficient of ER network = 0.0012561523954712178\n",
      "Avg Clustering Coefficient of BA network = 0.007785974408253775\n"
     ]
    }
   ],
   "source": [
    "print(\"Avg Clustering Coefficient of our network = {}\".format(nx.average_clustering(G)))\n",
    "print(\"Avg Clustering Coefficient of ER network = {}\".format(nx.average_clustering(GER)))\n",
    "print(\"Avg Clustering Coefficient of BA network = {}\".format(nx.average_clustering(GBA)))"
   ]
  },
  {
   "cell_type": "code",
   "execution_count": 10,
   "metadata": {
    "scrolled": true
   },
   "outputs": [
    {
     "data": {
      "text/plain": [
       "102"
      ]
     },
     "execution_count": 10,
     "metadata": {},
     "output_type": "execute_result"
    }
   ],
   "source": [
    "#Number of Connected Components\n",
    "nx.number_connected_components(G)"
   ]
  },
  {
   "cell_type": "code",
   "execution_count": 11,
   "metadata": {},
   "outputs": [
    {
     "data": {
      "text/plain": [
       "1"
      ]
     },
     "execution_count": 11,
     "metadata": {},
     "output_type": "execute_result"
    }
   ],
   "source": [
    "nx.number_connected_components(GER)"
   ]
  },
  {
   "cell_type": "code",
   "execution_count": 12,
   "metadata": {},
   "outputs": [
    {
     "data": {
      "text/plain": [
       "1"
      ]
     },
     "execution_count": 12,
     "metadata": {},
     "output_type": "execute_result"
    }
   ],
   "source": [
    "nx.number_connected_components(GBA)"
   ]
  },
  {
   "cell_type": "code",
   "execution_count": 61,
   "metadata": {},
   "outputs": [
    {
     "name": "stdout",
     "output_type": "stream",
     "text": [
      "12366\n",
      "98763\n"
     ]
    }
   ],
   "source": [
    "Gcc=sorted(nx.connected_component_subgraphs(G), key = len, reverse=True)\n",
    "G0 = Gcc[0]\n",
    "# Size of the Giant Component\n",
    "print(len(G0.nodes()))\n",
    "print(len(G0.edges()))"
   ]
  },
  {
   "cell_type": "code",
   "execution_count": 59,
   "metadata": {},
   "outputs": [
    {
     "name": "stdout",
     "output_type": "stream",
     "text": [
      "5\n",
      "10\n"
     ]
    }
   ],
   "source": [
    "#Second greatest connected component\n",
    "G1 = Gcc[4]\n",
    "#nx.write_gexf(G1, \"hashtags-secondCC.gexf\")\n",
    "print(len(G1.nodes()))\n",
    "print(len(G1.edges()))"
   ]
  },
  {
   "cell_type": "code",
   "execution_count": 15,
   "metadata": {},
   "outputs": [
    {
     "data": {
      "image/png": "[encoded data removed]",
      "text/plain": [
       "<Figure size 432x288 with 2 Axes>"
      ]
     },
     "metadata": {},
     "output_type": "display_data"
    }
   ],
   "source": [
    "degree_sequence = sorted([d for n, d in G.degree()], reverse=True)\n",
    "degree_sequenceER = sorted([d for n, d in GER.degree()], reverse=True)\n",
    "degree_sequenceBA = sorted([d for n, d in GBA.degree()], reverse=True)\n",
    "\n",
    "degreeCount = collections.Counter(degree_sequence)\n",
    "degreeCountER = collections.Counter(degree_sequenceER)\n",
    "degreeCountBA = collections.Counter(degree_sequenceBA)\n",
    "deg, cnt = zip(*degreeCount.items())\n",
    "degER, cntER = zip(*degreeCountER.items())\n",
    "degBA, cntBA = zip(*degreeCountBA.items())\n",
    "\n",
    "fig, ax = plt.subplots()\n",
    "ax.scatter(deg, cnt, s=10, c='b', marker=\"o\", label='Real')\n",
    "ax.scatter(degER, cntER, s=10, c='r', marker=\"s\", label='ER')\n",
    "ax.scatter(degBA, cntBA, s=10, c='g', marker=\"+\", label='BA')\n",
    "#ax1.scatter(x[40:],y[40:], s=10, c='r', marker=\"o\", label='second')\n",
    "plt.legend(loc='upper right')\n",
    "#ax.scatter(, 'r--')\n",
    "\n",
    "plt.title(\"Degree Histogram\")\n",
    "plt.ylabel(\"Count\")\n",
    "plt.xlabel(\"Degree\")\n",
    "#ax.set_xticks([d + 0.4 for d in deg])\n",
    "#ax.set_xticklabels(deg)\n",
    "\n",
    "# draw graph in inset\n",
    "plt.axes([0.4, 0.4, 0.5, 0.5])\n",
    "ax.set_xscale(\"log\", nonposx='clip')\n",
    "ax.set_yscale(\"log\", nonposy='clip')\n",
    "Gcc = sorted(nx.connected_component_subgraphs(G), key=len, reverse=True)[0]\n",
    "#pos = nx.spring_layout(G)\n",
    "plt.axis('off')\n",
    "#nx.draw_networkx_nodes(G, pos, node_size=20)\n",
    "#nx.draw_networkx_edges(G, pos, alpha=0.4)\n",
    "\n",
    "plt.show()"
   ]
  },
  {
   "cell_type": "code",
   "execution_count": 64,
   "metadata": {},
   "outputs": [
    {
     "data": {
      "text/plain": [
       "208"
      ]
     },
     "execution_count": 64,
     "metadata": {},
     "output_type": "execute_result"
    }
   ],
   "source": [
    "count100 = 0\n",
    "for k, v in degreeCount.items():\n",
    "    if k>100:\n",
    "        count100 += v\n",
    "count100"
   ]
  },
  {
   "cell_type": "code",
   "execution_count": 68,
   "metadata": {},
   "outputs": [
    {
     "data": {
      "text/plain": [
       "8"
      ]
     },
     "execution_count": 68,
     "metadata": {},
     "output_type": "execute_result"
    }
   ],
   "source": [
    "min(degree_sequenceBA)"
   ]
  },
  {
   "cell_type": "markdown",
   "metadata": {},
   "source": [
    "1) Keep Latin hashtags only and convert all hashtags to lowercase\n",
    "2) Don't add edges to edge list at the time of reading tweets. Just Create nodes for each hashtag. Then, if 2 hashtags appear in the same tweet, connect them. This way, we can account for tweets having just one hashtag."
   ]
  },
  {
   "cell_type": "code",
   "execution_count": 101,
   "metadata": {},
   "outputs": [],
   "source": [
    "#nx.write_gexf(G, \"hashtags.gexf\")\n",
    "#nx.write_gexf(GER, \"Erdos-Reyni.gexf\")\n",
    "#nx.write_gexf(GBA, \"Barabasi-Albert.gexf\")"
   ]
  },
  {
   "cell_type": "code",
   "execution_count": 20,
   "metadata": {},
   "outputs": [
    {
     "data": {
      "text/plain": [
       "12624"
      ]
     },
     "execution_count": 20,
     "metadata": {},
     "output_type": "execute_result"
    }
   ],
   "source": [
    "len(G.nodes())"
   ]
  },
  {
   "cell_type": "code",
   "execution_count": 21,
   "metadata": {},
   "outputs": [
    {
     "data": {
      "text/plain": [
       "12366"
      ]
     },
     "execution_count": 21,
     "metadata": {},
     "output_type": "execute_result"
    }
   ],
   "source": [
    "len(Gcc.nodes())"
   ]
  },
  {
   "cell_type": "code",
   "execution_count": 49,
   "metadata": {},
   "outputs": [],
   "source": [
    "import itertools"
   ]
  },
  {
   "cell_type": "code",
   "execution_count": 50,
   "metadata": {},
   "outputs": [
    {
     "name": "stdout",
     "output_type": "stream",
     "text": [
      "12143\n",
      "('aktien', 'tipstrr')\n"
     ]
    },
    {
     "data": {
      "text/plain": [
       "73720153"
      ]
     },
     "execution_count": 50,
     "metadata": {},
     "output_type": "execute_result"
    }
   ],
   "source": [
    "print(len(G.nodes()))\n",
    "combinations = list(itertools.combinations(G.nodes(), 2))\n",
    "print(combinations[1])\n",
    "len(combinations)"
   ]
  },
  {
   "cell_type": "code",
   "execution_count": 1,
   "metadata": {
    "scrolled": true
   },
   "outputs": [
    {
     "ename": "IndentationError",
     "evalue": "expected an indented block (<ipython-input-1-b2b1078aa58d>, line 10)",
     "output_type": "error",
     "traceback": [
      "\u001b[0;36m  File \u001b[0;32m\"<ipython-input-1-b2b1078aa58d>\"\u001b[0;36m, line \u001b[0;32m10\u001b[0m\n\u001b[0;31m    counter += 1\u001b[0m\n\u001b[0m          ^\u001b[0m\n\u001b[0;31mIndentationError\u001b[0m\u001b[0;31m:\u001b[0m expected an indented block\n"
     ]
    }
   ],
   "source": [
    "distances = []\n",
    "counter = 0\n",
    "for nodePair in combinations:\n",
    "    break\n",
    "    try:\n",
    "        distances.append(nx.shortest_path_length(G, source = nodePair[0], target = nodePair[1]))\n",
    "    except nx.NetworkXNoPath:\n",
    "        #print (\"No path\")\n",
    "    #print(counter)\n",
    "    #counter += 1\n",
    "#allShortestPaths = dict(nx.shortest_path_length(G))"
   ]
  },
  {
   "cell_type": "code",
   "execution_count": 17,
   "metadata": {},
   "outputs": [],
   "source": [
    "distances = []\n",
    "with open(\"distancesHT.txt\", \"r\") as f:\n",
    "    for line in f:\n",
    "        x = line.split(',')\n",
    "        distances.append(int(x[0]))\n",
    "distancesER = []\n",
    "with open(\"distancesER.txt\", \"r\") as f:\n",
    "    for line in f:\n",
    "        x = line.split(',')\n",
    "        distancesER.append(int(x[0]))\n",
    "distancesBA = []\n",
    "with open(\"distancesBA.txt\", \"r\") as f:\n",
    "    for line in f:\n",
    "        x = line.split(',')\n",
    "        distancesBA.append(int(x[0]))"
   ]
  },
  {
   "cell_type": "code",
   "execution_count": 18,
   "metadata": {},
   "outputs": [
    {
     "data": {
      "text/plain": [
       "2.5079781026652403"
      ]
     },
     "execution_count": 18,
     "metadata": {},
     "output_type": "execute_result"
    }
   ],
   "source": [
    "sum(distances) / float(len(distances))"
   ]
  },
  {
   "cell_type": "code",
   "execution_count": 19,
   "metadata": {},
   "outputs": [
    {
     "data": {
      "text/plain": [
       "3.7272686197474645"
      ]
     },
     "execution_count": 19,
     "metadata": {},
     "output_type": "execute_result"
    }
   ],
   "source": [
    "sum(distancesER) / float(len(distancesER))"
   ]
  },
  {
   "cell_type": "code",
   "execution_count": 20,
   "metadata": {},
   "outputs": [
    {
     "data": {
      "text/plain": [
       "3.311212761484031"
      ]
     },
     "execution_count": 20,
     "metadata": {},
     "output_type": "execute_result"
    }
   ],
   "source": [
    "sum(distancesBA) / float(len(distancesBA))"
   ]
  },
  {
   "cell_type": "code",
   "execution_count": 21,
   "metadata": {},
   "outputs": [
    {
     "data": {
      "image/png": "[encoded data removed]",
      "text/plain": [
       "<Figure size 432x288 with 1 Axes>"
      ]
     },
     "metadata": {},
     "output_type": "display_data"
    }
   ],
   "source": [
    "distances = sorted(distances, reverse=True)\n",
    "distancesER = sorted(distancesER, reverse=True)\n",
    "distancesBA = sorted(distancesBA, reverse=True)\n",
    "# print \"Degree sequence\", degree_sequence\n",
    "distanceCount = collections.Counter(distances)\n",
    "distanceCountER = collections.Counter(distancesER)\n",
    "distanceCountBA = collections.Counter(distancesBA)\n",
    "dist, cnt = zip(*distanceCount.items())\n",
    "distER, cntER = zip(*distanceCountER.items())\n",
    "distBA, cntBA = zip(*distanceCountBA.items())\n",
    "\n",
    "fig, ax = plt.subplots()\n",
    "ax.plot(dist, cnt, 'b-', label='Real')\n",
    "ax.plot(distER, cntER, 'r-', label='ER')\n",
    "ax.plot(distBA, cntBA, 'g-', label='BA')\n",
    "#ax1.scatter(x[40:],y[40:], s=10, c='r', marker=\"o\", label='second')\n",
    "plt.legend(loc='upper right')\n",
    "#plt.plot(dist, cnt)\n",
    "\n",
    "plt.title(\"Shortest Path Length Histogram\")\n",
    "plt.ylabel(\"Count\")\n",
    "plt.xlabel(\"Shortest Path Length\")\n",
    "\n",
    "#ax.set_xscale(\"log\", nonposx='clip')\n",
    "#ax.set_yscale(\"log\", nonposy='clip')\n",
    "\n",
    "\n",
    "plt.show()"
   ]
  },
  {
   "cell_type": "code",
   "execution_count": 22,
   "metadata": {},
   "outputs": [],
   "source": [
    "#Clustering coefficient:\n",
    "ClusCoef = nx.clustering(G)\n",
    "ClusCoefER = nx.clustering(GER)\n",
    "ClusCoefBA = nx.clustering(GBA)"
   ]
  },
  {
   "cell_type": "code",
   "execution_count": 23,
   "metadata": {},
   "outputs": [],
   "source": [
    "from collections import defaultdict\n",
    "d = defaultdict(list)\n",
    "dER = defaultdict(list)\n",
    "dBA = defaultdict(list)\n",
    "\n",
    "for k, v in ClusCoef.items():\n",
    "    d[G.degree(k)].append(v)\n",
    "ClusCoefPlot = {}\n",
    "for k, v in d.items():\n",
    "    ClusCoefPlot[k]= sum(v) / float(len(v))\n",
    "    \n",
    "for k, v in ClusCoefER.items():\n",
    "    dER[GER.degree(k)].append(v)\n",
    "ClusCoefPlotER = {}\n",
    "for k, v in dER.items():\n",
    "    ClusCoefPlotER[k]= sum(v) / float(len(v))\n",
    "    \n",
    "for k, v in ClusCoefBA.items():\n",
    "    dBA[GBA.degree(k)].append(v)\n",
    "ClusCoefPlotBA = {}\n",
    "for k, v in dBA.items():\n",
    "    ClusCoefPlotBA[k]= sum(v) / float(len(v))"
   ]
  },
  {
   "cell_type": "code",
   "execution_count": 24,
   "metadata": {},
   "outputs": [],
   "source": [
    "deg, cnt = zip(*ClusCoefPlot.items())\n",
    "degER, cntER = zip(*ClusCoefPlotER.items())\n",
    "degBA, cntBA = zip(*ClusCoefPlotBA.items())"
   ]
  },
  {
   "cell_type": "code",
   "execution_count": 25,
   "metadata": {},
   "outputs": [
    {
     "data": {
      "image/png": "[encoded data removed]",
      "text/plain": [
       "<Figure size 432x288 with 1 Axes>"
      ]
     },
     "metadata": {},
     "output_type": "display_data"
    }
   ],
   "source": [
    "#Hashtag Network\n",
    "fig, ax = plt.subplots()\n",
    "ax.scatter(deg, cnt, s=10, c='b', marker=\"o\", label='Real')\n",
    "\n",
    "plt.legend(loc='upper right')\n",
    "\n",
    "plt.title(\"C(k)\")\n",
    "plt.ylabel(\"Average Clsutering Coefficient\")\n",
    "plt.xlabel(\"Degree\")\n",
    "ax.set_xscale(\"log\", nonposx='clip')\n",
    "#ax.set_yscale(\"log\", nonposy='clip')\n",
    "\n",
    "plt.show()"
   ]
  },
  {
   "cell_type": "code",
   "execution_count": 26,
   "metadata": {},
   "outputs": [
    {
     "data": {
      "image/png": "[encoded data removed]",
      "text/plain": [
       "<Figure size 432x288 with 1 Axes>"
      ]
     },
     "metadata": {},
     "output_type": "display_data"
    }
   ],
   "source": [
    "#ER Network\n",
    "fig, ax = plt.subplots()\n",
    "ax.scatter(degER, cntER, s=10, c='r', marker=\"s\", label='ER')\n",
    "\n",
    "plt.legend(loc='upper right')\n",
    "\n",
    "plt.title(\"C(k)\")\n",
    "plt.ylabel(\"Average Clsutering Coefficient\")\n",
    "plt.xlabel(\"Degree\")\n",
    "#ax.set_xscale(\"log\", nonposx='clip')\n",
    "#ax.set_yscale(\"log\", nonposy='clip')\n",
    "\n",
    "plt.show()"
   ]
  },
  {
   "cell_type": "code",
   "execution_count": 27,
   "metadata": {},
   "outputs": [
    {
     "data": {
      "image/png": "[encoded data removed]",
      "text/plain": [
       "<Figure size 432x288 with 1 Axes>"
      ]
     },
     "metadata": {},
     "output_type": "display_data"
    }
   ],
   "source": [
    "#BA Network\n",
    "fig, ax = plt.subplots()\n",
    "ax.scatter(degBA, cntBA, s=10, c='g', marker=\"+\", label='BA')\n",
    "\n",
    "plt.legend(loc='upper right')\n",
    "\n",
    "plt.title(\"C(k)\")\n",
    "plt.ylabel(\"Average Clsutering Coefficient\")\n",
    "plt.xlabel(\"Degree\")\n",
    "#ax.set_xscale(\"log\", nonposx='clip')\n",
    "#ax.set_yscale(\"log\", nonposy='clip')\n",
    "\n",
    "plt.show()"
   ]
  },
  {
   "cell_type": "code",
   "execution_count": 31,
   "metadata": {},
   "outputs": [],
   "source": [
    "#Betweenness Centrality  (Reading csv data exported by Gephi)\n",
    "BetwCent = {}\n",
    "ClosCent = {}\n",
    "TriangCount = {}\n",
    "IdToDeg = {}\n",
    "with open(\"export.csv\", \"r\") as f:\n",
    "    f.readline() #skip the first line\n",
    "    for line in f:\n",
    "        x = line.split(',')\n",
    "        BetwCent[x[0]] = float(x[10])\n",
    "        ClosCent[x[0]] = float(x[8])\n",
    "        TriangCount[x[0]] = float(x[6])\n",
    "        IdToDeg[x[0]] = int(x[3])"
   ]
  },
  {
   "cell_type": "code",
   "execution_count": 32,
   "metadata": {},
   "outputs": [],
   "source": [
    "from collections import defaultdict\n",
    "d = defaultdict(list)\n",
    "for k, v in BetwCent.items():\n",
    "    d[IdToDeg[k]].append(v)\n",
    "BetwCentPlot = {}\n",
    "for k, v in d.items():\n",
    "    BetwCentPlot[k]= sum(v) / float(len(v))"
   ]
  },
  {
   "cell_type": "code",
   "execution_count": 33,
   "metadata": {},
   "outputs": [
    {
     "data": {
      "image/png": "[encoded data removed]",
      "text/plain": [
       "<Figure size 432x288 with 1 Axes>"
      ]
     },
     "metadata": {},
     "output_type": "display_data"
    }
   ],
   "source": [
    "deg, cnt = zip(*BetwCentPlot.items())\n",
    "\n",
    "fig, ax = plt.subplots()\n",
    "plt.scatter(deg, cnt)\n",
    "\n",
    "plt.title(\"Betweenness Centrality for Hashtag Graph\")\n",
    "plt.ylabel(\"Average Betweenness Centrality\")\n",
    "plt.xlabel(\"Degree\")\n",
    "#ax.set_xscale(\"log\", nonposx='clip')\n",
    "#ax.set_yscale(\"log\", nonposy='clip')\n",
    "\n",
    "plt.show()"
   ]
  },
  {
   "cell_type": "code",
   "execution_count": 36,
   "metadata": {},
   "outputs": [],
   "source": [
    "#Closeness Centrality\n",
    "d = defaultdict(list)\n",
    "for k, v in ClosCent.items():\n",
    "    d[IdToDeg[k]].append(v)\n",
    "ClosCentPlot = {}\n",
    "for k, v in d.items():\n",
    "    ClosCentPlot[k]= sum(v) / float(len(v))"
   ]
  },
  {
   "cell_type": "code",
   "execution_count": 37,
   "metadata": {},
   "outputs": [
    {
     "data": {
      "image/png": "[encoded data removed]",
      "text/plain": [
       "<Figure size 432x288 with 1 Axes>"
      ]
     },
     "metadata": {},
     "output_type": "display_data"
    }
   ],
   "source": [
    "deg, cnt = zip(*ClosCentPlot.items())\n",
    "\n",
    "fig, ax = plt.subplots()\n",
    "plt.scatter(deg, cnt)\n",
    "\n",
    "plt.title(\"Average Closeness Centrality for Hashtag Graph\")\n",
    "plt.ylabel(\"Average Closeness Centrality\")\n",
    "plt.xlabel(\"Degree\")\n",
    "ax.set_xscale(\"log\", nonposx='clip')\n",
    "#ax.set_yscale(\"log\", nonposy='clip')\n",
    "\n",
    "plt.show()"
   ]
  },
  {
   "cell_type": "code",
   "execution_count": 38,
   "metadata": {},
   "outputs": [],
   "source": [
    "#Triangle Count\n",
    "d = defaultdict(list)\n",
    "for k, v in TriangCount.items():\n",
    "    d[IdToDeg[k]].append(v)\n",
    "TriangCountPlot = {}\n",
    "for k, v in d.items():\n",
    "    TriangCountPlot[k]= sum(v) / float(len(v))"
   ]
  },
  {
   "cell_type": "code",
   "execution_count": 39,
   "metadata": {
    "scrolled": false
   },
   "outputs": [
    {
     "data": {
      "image/png": "[encoded data removed]",
      "text/plain": [
       "<Figure size 432x288 with 1 Axes>"
      ]
     },
     "metadata": {},
     "output_type": "display_data"
    }
   ],
   "source": [
    "deg, cnt = zip(*TriangCountPlot.items())\n",
    "\n",
    "fig, ax = plt.subplots()\n",
    "plt.scatter(deg, cnt)\n",
    "\n",
    "plt.title(\"Average Triangle Count for Hashtag Graph\")\n",
    "plt.ylabel(\"Average Triangle Count\")\n",
    "plt.xlabel(\"Degree\")\n",
    "#ax.set_xscale(\"log\", nonposx='clip')\n",
    "#ax.set_yscale(\"log\", nonposy='clip')\n",
    "\n",
    "plt.show()"
   ]
  },
  {
   "cell_type": "markdown",
   "metadata": {},
   "source": [
    "Reading export of the Gephi for other two networks.."
   ]
  },
  {
   "cell_type": "code",
   "execution_count": 40,
   "metadata": {},
   "outputs": [],
   "source": [
    "#Betweenness Centrality  (Reading csv data exported by Gephi)\n",
    "# For Erdos Reyni\n",
    "\n",
    "BetwCent = {}\n",
    "ClosCent = {}\n",
    "TriangCount = {}\n",
    "IdToDeg = {}\n",
    "with open(\"exportER.csv\", \"r\") as f:\n",
    "    f.readline() #skip the first line\n",
    "    for line in f:\n",
    "        x = line.split(',')\n",
    "        BetwCent[x[0]] = float(x[10])\n",
    "        ClosCent[x[0]] = float(x[8])\n",
    "        TriangCount[x[0]] = float(x[6])\n",
    "        IdToDeg[x[0]] = int(x[3])"
   ]
  },
  {
   "cell_type": "code",
   "execution_count": 41,
   "metadata": {},
   "outputs": [],
   "source": [
    "from collections import defaultdict\n",
    "d = defaultdict(list)\n",
    "for k, v in BetwCent.items():\n",
    "    d[IdToDeg[k]].append(v)\n",
    "BetwCentPlot = {}\n",
    "for k, v in d.items():\n",
    "    BetwCentPlot[k]= sum(v) / float(len(v))"
   ]
  },
  {
   "cell_type": "code",
   "execution_count": 42,
   "metadata": {},
   "outputs": [
    {
     "data": {
      "image/png": "[encoded data removed]",
      "text/plain": [
       "<Figure size 432x288 with 1 Axes>"
      ]
     },
     "metadata": {},
     "output_type": "display_data"
    }
   ],
   "source": [
    "deg, cnt = zip(*BetwCentPlot.items())\n",
    "\n",
    "fig, ax = plt.subplots()\n",
    "plt.scatter(deg, cnt)\n",
    "\n",
    "plt.title(\"Betweenness Centrality for ER Graph\")\n",
    "plt.ylabel(\"Average Betweenness Centrality\")\n",
    "plt.xlabel(\"Degree\")\n",
    "#ax.set_xscale(\"log\", nonposx='clip')\n",
    "#ax.set_yscale(\"log\", nonposy='clip')\n",
    "\n",
    "plt.show()"
   ]
  },
  {
   "cell_type": "code",
   "execution_count": 43,
   "metadata": {},
   "outputs": [],
   "source": [
    "#Closeness Centrality\n",
    "d = defaultdict(list)\n",
    "for k, v in ClosCent.items():\n",
    "    d[IdToDeg[k]].append(v)\n",
    "ClosCentPlot = {}\n",
    "for k, v in d.items():\n",
    "    ClosCentPlot[k]= sum(v) / float(len(v))"
   ]
  },
  {
   "cell_type": "code",
   "execution_count": 44,
   "metadata": {},
   "outputs": [
    {
     "data": {
      "image/png": "[encoded data removed]",
      "text/plain": [
       "<Figure size 432x288 with 1 Axes>"
      ]
     },
     "metadata": {},
     "output_type": "display_data"
    }
   ],
   "source": [
    "deg, cnt = zip(*ClosCentPlot.items())\n",
    "\n",
    "fig, ax = plt.subplots()\n",
    "plt.scatter(deg, cnt)\n",
    "\n",
    "plt.title(\"Average Closeness Centrality for ER Graph\")\n",
    "plt.ylabel(\"Average Closeness Centrality\")\n",
    "plt.xlabel(\"Degree\")\n",
    "ax.set_xscale(\"log\", nonposx='clip')\n",
    "#ax.set_yscale(\"log\", nonposy='clip')\n",
    "\n",
    "plt.show()"
   ]
  },
  {
   "cell_type": "code",
   "execution_count": 45,
   "metadata": {},
   "outputs": [],
   "source": [
    "#Triangle Count\n",
    "d = defaultdict(list)\n",
    "for k, v in TriangCount.items():\n",
    "    d[IdToDeg[k]].append(v)\n",
    "TriangCountPlot = {}\n",
    "for k, v in d.items():\n",
    "    TriangCountPlot[k]= sum(v) / float(len(v))"
   ]
  },
  {
   "cell_type": "code",
   "execution_count": 46,
   "metadata": {
    "scrolled": false
   },
   "outputs": [
    {
     "data": {
      "image/png": "[encoded data removed]",
      "text/plain": [
       "<Figure size 432x288 with 1 Axes>"
      ]
     },
     "metadata": {},
     "output_type": "display_data"
    }
   ],
   "source": [
    "deg, cnt = zip(*TriangCountPlot.items())\n",
    "\n",
    "fig, ax = plt.subplots()\n",
    "plt.scatter(deg, cnt)\n",
    "\n",
    "plt.title(\"Average Triangle Count for ER Graph\")\n",
    "plt.ylabel(\"Average Triangle Count\")\n",
    "plt.xlabel(\"Degree\")\n",
    "#ax.set_xscale(\"log\", nonposx='clip')\n",
    "#ax.set_yscale(\"log\", nonposy='clip')\n",
    "\n",
    "plt.show()"
   ]
  },
  {
   "cell_type": "markdown",
   "metadata": {},
   "source": [
    "Now, for Barabasi - Albert"
   ]
  },
  {
   "cell_type": "code",
   "execution_count": 47,
   "metadata": {},
   "outputs": [],
   "source": [
    "#Betweenness Centrality  (Reading csv data exported by Gephi)\n",
    "# For Barabasi Albert\n",
    "\n",
    "BetwCent = {}\n",
    "ClosCent = {}\n",
    "TriangCount = {}\n",
    "IdToDeg = {}\n",
    "with open(\"exportBA.csv\", \"r\") as f:\n",
    "    f.readline() #skip the first line\n",
    "    for line in f:\n",
    "        x = line.split(',')\n",
    "        BetwCent[x[0]] = float(x[10])\n",
    "        ClosCent[x[0]] = float(x[8])\n",
    "        TriangCount[x[0]] = float(x[6])\n",
    "        IdToDeg[x[0]] = int(x[3])"
   ]
  },
  {
   "cell_type": "code",
   "execution_count": 48,
   "metadata": {},
   "outputs": [],
   "source": [
    "from collections import defaultdict\n",
    "d = defaultdict(list)\n",
    "for k, v in BetwCent.items():\n",
    "    d[IdToDeg[k]].append(v)\n",
    "BetwCentPlot = {}\n",
    "for k, v in d.items():\n",
    "    BetwCentPlot[k]= sum(v) / float(len(v))"
   ]
  },
  {
   "cell_type": "code",
   "execution_count": 49,
   "metadata": {},
   "outputs": [
    {
     "data": {
      "image/png": "[encoded data removed]",
      "text/plain": [
       "<Figure size 432x288 with 1 Axes>"
      ]
     },
     "metadata": {},
     "output_type": "display_data"
    }
   ],
   "source": [
    "deg, cnt = zip(*BetwCentPlot.items())\n",
    "\n",
    "fig, ax = plt.subplots()\n",
    "plt.scatter(deg, cnt)\n",
    "\n",
    "plt.title(\"Betweenness Centrality for BA Graph\")\n",
    "plt.ylabel(\"Average Betweenness Centrality\")\n",
    "plt.xlabel(\"Degree\")\n",
    "#ax.set_xscale(\"log\", nonposx='clip')\n",
    "#ax.set_yscale(\"log\", nonposy='clip')\n",
    "\n",
    "plt.show()"
   ]
  },
  {
   "cell_type": "code",
   "execution_count": 50,
   "metadata": {},
   "outputs": [],
   "source": [
    "#Closeness Centrality\n",
    "d = defaultdict(list)\n",
    "for k, v in ClosCent.items():\n",
    "    d[IdToDeg[k]].append(v)\n",
    "ClosCentPlot = {}\n",
    "for k, v in d.items():\n",
    "    ClosCentPlot[k]= sum(v) / float(len(v))"
   ]
  },
  {
   "cell_type": "code",
   "execution_count": 51,
   "metadata": {},
   "outputs": [
    {
     "data": {
      "image/png": "[encoded data removed]",
      "text/plain": [
       "<Figure size 432x288 with 1 Axes>"
      ]
     },
     "metadata": {},
     "output_type": "display_data"
    }
   ],
   "source": [
    "deg, cnt = zip(*ClosCentPlot.items())\n",
    "\n",
    "fig, ax = plt.subplots()\n",
    "plt.scatter(deg, cnt)\n",
    "\n",
    "plt.title(\"Average Closeness Centrality for BA Graph\")\n",
    "plt.ylabel(\"Average Closeness Centrality\")\n",
    "plt.xlabel(\"Degree\")\n",
    "ax.set_xscale(\"log\", nonposx='clip')\n",
    "#ax.set_yscale(\"log\", nonposy='clip')\n",
    "\n",
    "plt.show()"
   ]
  },
  {
   "cell_type": "code",
   "execution_count": 52,
   "metadata": {},
   "outputs": [],
   "source": [
    "#Triangle Count\n",
    "d = defaultdict(list)\n",
    "for k, v in TriangCount.items():\n",
    "    d[IdToDeg[k]].append(v)\n",
    "TriangCountPlot = {}\n",
    "for k, v in d.items():\n",
    "    TriangCountPlot[k]= sum(v) / float(len(v))"
   ]
  },
  {
   "cell_type": "code",
   "execution_count": 53,
   "metadata": {
    "scrolled": false
   },
   "outputs": [
    {
     "data": {
      "image/png": "[encoded data removed]",
      "text/plain": [
       "<Figure size 432x288 with 1 Axes>"
      ]
     },
     "metadata": {},
     "output_type": "display_data"
    }
   ],
   "source": [
    "deg, cnt = zip(*TriangCountPlot.items())\n",
    "\n",
    "fig, ax = plt.subplots()\n",
    "plt.scatter(deg, cnt)\n",
    "\n",
    "plt.title(\"Average Triangle Count for BA Graph\")\n",
    "plt.ylabel(\"Average Triangle Count\")\n",
    "plt.xlabel(\"Degree\")\n",
    "#ax.set_xscale(\"log\", nonposx='clip')\n",
    "#ax.set_yscale(\"log\", nonposy='clip')\n",
    "\n",
    "plt.show()"
   ]
  },
  {
   "cell_type": "code",
   "execution_count": null,
   "metadata": {},
   "outputs": [],
   "source": []
  }
 ],
 "metadata": {
  "kernelspec": {
   "display_name": "Python 3",
   "language": "python",
   "name": "python3"
  },
  "language_info": {
   "codemirror_mode": {
    "name": "ipython",
    "version": 3
   },
   "file_extension": ".py",
   "mimetype": "text/x-python",
   "name": "python",
   "nbconvert_exporter": "python",
   "pygments_lexer": "ipython3",
   "version": "3.7.0"
  }
 },
 "nbformat": 4,
 "nbformat_minor": 2
}
