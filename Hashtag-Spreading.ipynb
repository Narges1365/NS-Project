{
 "cells": [
  {
   "cell_type": "code",
   "execution_count": 1,
   "metadata": {},
   "outputs": [],
   "source": [
    "import matplotlib.pyplot as plt\n",
    "import networkx as nx"
   ]
  },
  {
   "cell_type": "code",
   "execution_count": 2,
   "metadata": {},
   "outputs": [],
   "source": [
    "import ndlib.models.ModelConfig as mc\n",
    "import ndlib.models.epidemics.SIRModel as sir\n",
    "import ndlib.models.epidemics.SISModel as sis\n",
    "import ndlib.models.epidemics.SIModel as si\n",
    "import ndlib.models.epidemics.ThresholdModel as th\n",
    "\n",
    "from ndlib.viz.bokeh.DiffusionTrend import DiffusionTrend\n",
    "from ndlib.viz.bokeh.DiffusionPrevalence import DiffusionPrevalence\n",
    "\n",
    "from bokeh.io import output_notebook, show\n",
    "from ndlib.viz.bokeh.MultiPlot import MultiPlot"
   ]
  },
  {
   "cell_type": "code",
   "execution_count": 87,
   "metadata": {},
   "outputs": [],
   "source": [
    "#Hashtag Graph\n",
    "#g = nx.erdos_renyi_graph(1000, 0.1)\n",
    "GHT = nx.read_gexf(\"hashtags.gexf\")\n",
    "GER = nx.read_gexf(\"Erdos-Reyni.gexf\")\n",
    "GBA = nx.read_gexf(\"Barabasi-Albert.gexf\")"
   ]
  },
  {
   "cell_type": "code",
   "execution_count": 88,
   "metadata": {},
   "outputs": [
    {
     "name": "stdout",
     "output_type": "stream",
     "text": [
      "99028\n",
      "98799\n",
      "100928\n"
     ]
    }
   ],
   "source": [
    "print(len(GHT.edges()))\n",
    "print(len(GER.edges()))\n",
    "print(len(GBA.edges()))"
   ]
  },
  {
   "cell_type": "code",
   "execution_count": 25,
   "metadata": {},
   "outputs": [
    {
     "data": {
      "text/plain": [
       "'SI MODEL'"
      ]
     },
     "execution_count": 25,
     "metadata": {},
     "output_type": "execute_result"
    }
   ],
   "source": [
    "'''SI MODEL'''"
   ]
  },
  {
   "cell_type": "code",
   "execution_count": 19,
   "metadata": {},
   "outputs": [],
   "source": [
    "config = mc.Configuration()\n",
    "config.add_model_parameter('beta', 0.001)\n",
    "config.add_model_parameter(\"percentage_infected\", 0.10)"
   ]
  },
  {
   "cell_type": "code",
   "execution_count": 21,
   "metadata": {},
   "outputs": [],
   "source": [
    "# Model Selection (SI) and configuration\n",
    "si_modelHT = si.SIModel(GHT)\n",
    "si_modelER = si.SIModel(GER)\n",
    "si_modelBA = si.SIModel(GBA)\n",
    "si_modelHT.name = 'GHT'\n",
    "si_modelER.name = 'GER'\n",
    "si_modelBA.name = 'GBA'\n",
    "\n",
    "si_modelHT.set_initial_status(config)\n",
    "si_modelER.set_initial_status(config)\n",
    "si_modelBA.set_initial_status(config)\n",
    "\n",
    "iterationsHT = si_modelHT.iteration_bunch(200)\n",
    "iterationsER = si_modelER.iteration_bunch(200)\n",
    "iterationsBA = si_modelBA.iteration_bunch(200)\n",
    "\n",
    "trendsHT = si_modelHT.build_trends(iterationsHT)\n",
    "trendsER = si_modelER.build_trends(iterationsER)\n",
    "trendsBA = si_modelBA.build_trends(iterationsBA)"
   ]
  },
  {
   "cell_type": "code",
   "execution_count": 23,
   "metadata": {},
   "outputs": [],
   "source": [
    "vm = MultiPlot()\n",
    "\n",
    "viz1 = DiffusionTrend(si_modelHT, trendsHT)\n",
    "viz2 = DiffusionTrend(si_modelER, trendsER)\n",
    "viz3 = DiffusionTrend(si_modelBA, trendsBA)\n",
    "\n",
    "p1 = viz1.plot(width=400, height=400)\n",
    "p2 = viz2.plot(width=400, height=400)\n",
    "p3 = viz3.plot(width=400, height=400)\n",
    "vm.add_plot(p1)\n",
    "vm.add_plot(p2)\n",
    "vm.add_plot(p3)\n",
    "m = vm.plot()\n",
    "show(m)"
   ]
  },
  {
   "cell_type": "code",
   "execution_count": null,
   "metadata": {},
   "outputs": [],
   "source": []
  },
  {
   "cell_type": "code",
   "execution_count": 24,
   "metadata": {},
   "outputs": [
    {
     "data": {
      "text/plain": [
       "'SIS MODEL'"
      ]
     },
     "execution_count": 24,
     "metadata": {},
     "output_type": "execute_result"
    }
   ],
   "source": [
    "'''SIS MODEL'''"
   ]
  },
  {
   "cell_type": "code",
   "execution_count": 98,
   "metadata": {},
   "outputs": [],
   "source": [
    "config = mc.Configuration()\n",
    "config.add_model_parameter('beta', 0.001)\n",
    "config.add_model_parameter('lambda', 0.030)\n",
    "config.add_model_parameter(\"percentage_infected\", 0.10)"
   ]
  },
  {
   "cell_type": "code",
   "execution_count": 99,
   "metadata": {},
   "outputs": [],
   "source": [
    "# Model Selection (SIS) and configuration\n",
    "sis_modelHT = sis.SISModel(GHT)\n",
    "sis_modelER = sis.SISModel(GER)\n",
    "sis_modelBA = sis.SISModel(GBA)\n",
    "sis_modelHT.name = 'GHT'\n",
    "sis_modelER.name = 'GER'\n",
    "sis_modelBA.name = 'GBA'\n",
    "\n",
    "sis_modelHT.set_initial_status(config)\n",
    "sis_modelER.set_initial_status(config)\n",
    "sis_modelBA.set_initial_status(config)\n",
    "\n",
    "iterationsHT = sis_modelHT.iteration_bunch(200)\n",
    "iterationsER = sis_modelER.iteration_bunch(200)\n",
    "iterationsBA = sis_modelBA.iteration_bunch(200)\n",
    "\n",
    "trendsHT = sis_modelHT.build_trends(iterationsHT)\n",
    "trendsER = sis_modelER.build_trends(iterationsER)\n",
    "trendsBA = sis_modelBA.build_trends(iterationsBA)"
   ]
  },
  {
   "cell_type": "code",
   "execution_count": 100,
   "metadata": {},
   "outputs": [],
   "source": [
    "vm = MultiPlot()\n",
    "\n",
    "viz1 = DiffusionTrend(sis_modelHT, trendsHT)\n",
    "viz2 = DiffusionTrend(sis_modelER, trendsER)\n",
    "viz3 = DiffusionTrend(sis_modelBA, trendsBA)\n",
    "\n",
    "p1 = viz1.plot(width=400, height=400)\n",
    "p2 = viz2.plot(width=400, height=400)\n",
    "p3 = viz3.plot(width=400, height=400)\n",
    "vm.add_plot(p1)\n",
    "vm.add_plot(p2)\n",
    "vm.add_plot(p3)\n",
    "m = vm.plot()\n",
    "show(m)"
   ]
  },
  {
   "cell_type": "code",
   "execution_count": null,
   "metadata": {},
   "outputs": [],
   "source": []
  },
  {
   "cell_type": "code",
   "execution_count": 29,
   "metadata": {},
   "outputs": [
    {
     "data": {
      "text/plain": [
       "'SIR MODEL'"
      ]
     },
     "execution_count": 29,
     "metadata": {},
     "output_type": "execute_result"
    }
   ],
   "source": [
    "'''SIR MODEL'''"
   ]
  },
  {
   "cell_type": "code",
   "execution_count": 40,
   "metadata": {},
   "outputs": [],
   "source": [
    "config = mc.Configuration()\n",
    "config.add_model_parameter('beta', 0.01)\n",
    "config.add_model_parameter('gamma', 0.010)\n",
    "config.add_model_parameter(\"percentage_infected\", 0.05)"
   ]
  },
  {
   "cell_type": "code",
   "execution_count": 41,
   "metadata": {},
   "outputs": [],
   "source": [
    "# Model Selection (SIR) and configuration\n",
    "sir_modelHT = sir.SIRModel(GHT)\n",
    "sir_modelER = sir.SIRModel(GER)\n",
    "sir_modelBA = sir.SIRModel(GBA)\n",
    "sir_modelHT.name = 'GHT'\n",
    "sir_modelER.name = 'GER'\n",
    "sir_modelBA.name = 'GBA'\n",
    "\n",
    "sir_modelHT.set_initial_status(config)\n",
    "sir_modelER.set_initial_status(config)\n",
    "sir_modelBA.set_initial_status(config)\n",
    "\n",
    "iterationsHT = sir_modelHT.iteration_bunch(200)\n",
    "iterationsER = sir_modelER.iteration_bunch(200)\n",
    "iterationsBA = sir_modelBA.iteration_bunch(200)\n",
    "\n",
    "trendsHT = sir_modelHT.build_trends(iterationsHT)\n",
    "trendsER = sir_modelER.build_trends(iterationsER)\n",
    "trendsBA = sir_modelBA.build_trends(iterationsBA)"
   ]
  },
  {
   "cell_type": "code",
   "execution_count": 42,
   "metadata": {},
   "outputs": [],
   "source": [
    "vm = MultiPlot()\n",
    "\n",
    "viz1 = DiffusionTrend(sir_modelHT, trendsHT)\n",
    "viz2 = DiffusionTrend(sir_modelER, trendsER)\n",
    "viz3 = DiffusionTrend(sir_modelBA, trendsBA)\n",
    "\n",
    "p1 = viz1.plot(width=400, height=400)\n",
    "p2 = viz2.plot(width=400, height=400)\n",
    "p3 = viz3.plot(width=400, height=400)\n",
    "vm.add_plot(p1)\n",
    "vm.add_plot(p2)\n",
    "vm.add_plot(p3)\n",
    "m = vm.plot()\n",
    "show(m)"
   ]
  },
  {
   "cell_type": "code",
   "execution_count": null,
   "metadata": {},
   "outputs": [],
   "source": []
  },
  {
   "cell_type": "code",
   "execution_count": 43,
   "metadata": {},
   "outputs": [
    {
     "data": {
      "text/plain": [
       "'Threshold MODEL'"
      ]
     },
     "execution_count": 43,
     "metadata": {},
     "output_type": "execute_result"
    }
   ],
   "source": [
    "'''Threshold MODEL'''"
   ]
  },
  {
   "cell_type": "code",
   "execution_count": 45,
   "metadata": {},
   "outputs": [
    {
     "data": {
      "text/plain": [
       "<networkx.classes.graph.Graph at 0x7f1299515fd0>"
      ]
     },
     "execution_count": 45,
     "metadata": {},
     "output_type": "execute_result"
    }
   ],
   "source": [
    "#changing the node names from string to integer\n",
    "nodeList = list(GHT.nodes)\n",
    "LableToIntID = {}\n",
    "for i in range(len(nodeList)):\n",
    "    LableToIntID[i] = nodeList[i]\n",
    "inv_map = {v: k for k, v in LableToIntID.items()}\n",
    "nx.relabel_nodes(GHT, inv_map, copy=False)  #LableToIntID"
   ]
  },
  {
   "cell_type": "code",
   "execution_count": 76,
   "metadata": {},
   "outputs": [
    {
     "name": "stdout",
     "output_type": "stream",
     "text": [
      "12254\n",
      "9750\n",
      "6042\n",
      "6708\n",
      "11869\n",
      "296\n"
     ]
    }
   ],
   "source": [
    "cc = 0\n",
    "for i in GBA.nodes():\n",
    "    print (i)\n",
    "    if (cc==5):\n",
    "        break\n",
    "    cc += 1"
   ]
  },
  {
   "cell_type": "code",
   "execution_count": 84,
   "metadata": {},
   "outputs": [],
   "source": [
    "config = mc.Configuration()\n",
    "config.add_model_parameter(\"percentage_infected\", 0.5)\n",
    "#for i in GHT.nodes():\n",
    "#    config.add_node_configuration(\"threshold\", i, 0.25)\n",
    "for i in GER.nodes():\n",
    "    config.add_node_configuration(\"threshold\", i, 0.80)\n",
    "#for i in GBA.nodes():\n",
    "#    config.add_node_configuration(\"threshold\", i, 0.25)"
   ]
  },
  {
   "cell_type": "code",
   "execution_count": 85,
   "metadata": {},
   "outputs": [],
   "source": [
    "# Model Selection (Threshold Model) and configuration\n",
    "#th_modelHT = th.ThresholdModel(GHT)\n",
    "th_modelER = th.ThresholdModel(GER)\n",
    "#th_modelBA = th.ThresholdModel(GBA)\n",
    "#th_modelHT.name = 'GHT'\n",
    "th_modelER.name = 'GER'\n",
    "#th_modelBA.name = 'GBA'\n",
    "\n",
    "#th_modelHT.set_initial_status(config)\n",
    "th_modelER.set_initial_status(config)\n",
    "#th_modelBA.set_initial_status(config)\n",
    "\n",
    "#iterationsHT = th_modelHT.iteration_bunch(200)\n",
    "iterationsER = th_modelER.iteration_bunch(200)\n",
    "#iterationsBA = th_modelBA.iteration_bunch(200)\n",
    "\n",
    "#trendsHT = th_modelHT.build_trends(iterationsHT)\n",
    "trendsER = th_modelER.build_trends(iterationsER)\n",
    "#trendsBA = th_modelBA.build_trends(iterationsBA)"
   ]
  },
  {
   "cell_type": "code",
   "execution_count": 86,
   "metadata": {},
   "outputs": [],
   "source": [
    "\n",
    "viz2 = DiffusionTrend(th_modelER, trendsER)\n",
    "\n",
    "p2 = viz2.plot(width=400, height=400)\n",
    "\n",
    "\n",
    "show(p2)"
   ]
  },
  {
   "cell_type": "code",
   "execution_count": 73,
   "metadata": {},
   "outputs": [],
   "source": [
    "vm = MultiPlot()\n",
    "\n",
    "viz1 = DiffusionTrend(th_modelHT, trendsHT)\n",
    "viz2 = DiffusionTrend(th_modelER, trendsER)\n",
    "viz3 = DiffusionTrend(th_modelBA, trendsBA)\n",
    "\n",
    "p1 = viz1.plot(width=400, height=400)\n",
    "p2 = viz2.plot(width=400, height=400)\n",
    "p3 = viz3.plot(width=400, height=400)\n",
    "vm.add_plot(p1)\n",
    "vm.add_plot(p2)\n",
    "vm.add_plot(p3)\n",
    "m = vm.plot()\n",
    "show(m)"
   ]
  },
  {
   "cell_type": "code",
   "execution_count": null,
   "metadata": {},
   "outputs": [],
   "source": []
  },
  {
   "cell_type": "code",
   "execution_count": null,
   "metadata": {},
   "outputs": [],
   "source": []
  }
 ],
 "metadata": {
  "kernelspec": {
   "display_name": "Python 3",
   "language": "python",
   "name": "python3"
  },
  "language_info": {
   "codemirror_mode": {
    "name": "ipython",
    "version": 3
   },
   "file_extension": ".py",
   "mimetype": "text/x-python",
   "name": "python",
   "nbconvert_exporter": "python",
   "pygments_lexer": "ipython3",
   "version": "3.5.2"
  }
 },
 "nbformat": 4,
 "nbformat_minor": 2
}
